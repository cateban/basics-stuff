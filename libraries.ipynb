{
 "cells": [
  {
   "cell_type": "markdown",
   "id": "f61d0788-96ef-437f-897c-9f9dbe5e3e54",
   "metadata": {},
   "source": [
    "# Qué es una librería? \n",
    "\n",
    "Es un conjunto de módulos y funciones ya escritas que puedes reutilizar para realizar tareas específicas, sin tener que escribir ese código desde cero. Las librerías te ayudan a ahorrar tiempo y escribir código más limpio y eficiente."
   ]
  },
  {
   "cell_type": "code",
   "execution_count": 1,
   "id": "5cdc77da-4d3e-4a6b-a859-bce31016b67c",
   "metadata": {
    "execution": {
     "iopub.execute_input": "2025-07-15T15:50:14.222544Z",
     "iopub.status.busy": "2025-07-15T15:50:14.222364Z",
     "iopub.status.idle": "2025-07-15T15:50:14.230555Z",
     "shell.execute_reply": "2025-07-15T15:50:14.229087Z",
     "shell.execute_reply.started": "2025-07-15T15:50:14.222525Z"
    }
   },
   "outputs": [
    {
     "name": "stdout",
     "output_type": "stream",
     "text": [
      "Raíz: 5.0\n",
      "Seno: 1.0\n"
     ]
    }
   ],
   "source": [
    "# USANDO LIBRERÍA: EJEMPLO PARA SACAR LA RAIZ CUADRADA Y EL SENO DE 90 GRADOS\n",
    "\n",
    "import math\n",
    "\n",
    "# Raíz cuadrada\n",
    "raiz = math.sqrt(25)\n",
    "\n",
    "# Seno de 90 grados (convertimos a radianes primero)\n",
    "seno = math.sin(math.radians(90))\n",
    "\n",
    "print(\"Raíz:\", raiz)\n",
    "print(\"Seno:\", seno)\n"
   ]
  },
  {
   "cell_type": "code",
   "execution_count": 2,
   "id": "da57b4ed-1ee3-4f14-814c-0bb9809dbaf0",
   "metadata": {
    "execution": {
     "iopub.execute_input": "2025-07-15T15:50:14.232449Z",
     "iopub.status.busy": "2025-07-15T15:50:14.232263Z",
     "iopub.status.idle": "2025-07-15T15:50:14.240606Z",
     "shell.execute_reply": "2025-07-15T15:50:14.238564Z",
     "shell.execute_reply.started": "2025-07-15T15:50:14.232429Z"
    }
   },
   "outputs": [
    {
     "name": "stdout",
     "output_type": "stream",
     "text": [
      "Raíz: 5.0\n",
      "Seno: 1.0\n"
     ]
    }
   ],
   "source": [
    "# SIN USAR LIBRERÍA: EJEMPLO PARA SACAR LA RAIZ CUADRADA Y EL SENO DE 90 GRADOS\n",
    "\n",
    "# Raíz cuadrada con método de aproximación de Newton\n",
    "def sqrt(x, epsilon=1e-10):\n",
    "    guess = x\n",
    "    while abs(guess*guess - x) > epsilon:\n",
    "        guess = (guess + x / guess) / 2\n",
    "    return guess\n",
    "\n",
    "# Convertir grados a radianes\n",
    "def grados_a_radianes(grados):\n",
    "    return grados * (3.141592653589793 / 180)\n",
    "\n",
    "# Seno usando serie de Taylor (muy limitado para simplicidad)\n",
    "def sin_aprox(x, terms=10):\n",
    "    seno = 0\n",
    "    for n in range(terms):\n",
    "        sign = (-1)**n\n",
    "        seno += sign * (x**(2*n + 1)) / factorial(2*n + 1)\n",
    "    return seno\n",
    "\n",
    "# Factorial (también tienes que implementarlo)\n",
    "def factorial(n):\n",
    "    result = 1\n",
    "    for i in range(2, n+1):\n",
    "        result *= i\n",
    "    return result\n",
    "\n",
    "# Ejecutar\n",
    "raiz = sqrt(25)\n",
    "radianes = grados_a_radianes(90)\n",
    "seno = sin_aprox(radianes)\n",
    "\n",
    "print(\"Raíz:\", raiz)\n",
    "print(\"Seno:\", seno)\n"
   ]
  },
  {
   "cell_type": "code",
   "execution_count": null,
   "id": "0aba04d4-cc53-4a2c-a644-a09076de64ea",
   "metadata": {},
   "outputs": [],
   "source": []
  }
 ],
 "metadata": {
  "kernelspec": {
   "display_name": "Python 3 (ipykernel)",
   "language": "python",
   "name": "python3"
  },
  "language_info": {
   "codemirror_mode": {
    "name": "ipython",
    "version": 3
   },
   "file_extension": ".py",
   "mimetype": "text/x-python",
   "name": "python",
   "nbconvert_exporter": "python",
   "pygments_lexer": "ipython3",
   "version": "3.13.0"
  }
 },
 "nbformat": 4,
 "nbformat_minor": 5
}
